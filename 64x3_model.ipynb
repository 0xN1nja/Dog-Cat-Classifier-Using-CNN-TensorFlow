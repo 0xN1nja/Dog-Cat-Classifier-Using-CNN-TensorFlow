{
 "cells": [
  {
   "cell_type": "code",
   "execution_count": 1,
   "id": "fa0bbd6e",
   "metadata": {},
   "outputs": [],
   "source": [
    "import tensorflow as tf\n",
    "from tensorflow.keras.models import Sequential\n",
    "from tensorflow.keras.layers import Dense,Flatten,Conv2D,MaxPooling2D,Dropout,Activation\n",
    "from tensorflow.keras.callbacks import TensorBoard\n",
    "import pickle\n",
    "import matplotlib.pyplot as plt\n",
    "import numpy as np"
   ]
  },
  {
   "cell_type": "code",
   "execution_count": 2,
   "id": "9e8df6b9",
   "metadata": {},
   "outputs": [],
   "source": [
    "x=pickle.load(open(r\"x.pickle\",\"rb\"))\n",
    "y=pickle.load(open(r\"y.pickle\",\"rb\"))\n",
    "y=np.array(y)"
   ]
  },
  {
   "cell_type": "code",
   "execution_count": 3,
   "id": "cef5f510",
   "metadata": {},
   "outputs": [],
   "source": [
    "X=x/255 # Normalize Data Before Passing It To Model (May Help In Gaining Accuracy ;-;) (Also It Takes Less Time To Train)"
   ]
  },
  {
   "cell_type": "code",
   "execution_count": 4,
   "id": "3dd52556",
   "metadata": {
    "scrolled": false
   },
   "outputs": [],
   "source": [
    "model=Sequential([\n",
    "    Conv2D(64,(3,3),input_shape=(50,50,1)),\n",
    "    Activation(\"relu\"),\n",
    "    MaxPooling2D(),\n",
    "    Conv2D(64,(3,3)),\n",
    "    Activation(\"relu\"),\n",
    "    MaxPooling2D(),\n",
    "    Conv2D(64,(3,3)),\n",
    "    Activation(\"relu\"),\n",
    "    MaxPooling2D(),\n",
    "    Flatten(),\n",
    "    Dense(63),\n",
    "    Dense(1),\n",
    "    Activation(\"sigmoid\")\n",
    "])"
   ]
  },
  {
   "cell_type": "code",
   "execution_count": 5,
   "id": "e9a08487",
   "metadata": {},
   "outputs": [],
   "source": [
    "model.compile(optimizer=\"adam\",loss=\"binary_crossentropy\",metrics=[\"accuracy\"])"
   ]
  },
  {
   "cell_type": "code",
   "execution_count": 6,
   "id": "49319d06",
   "metadata": {},
   "outputs": [],
   "source": [
    "tensorboard=TensorBoard(log_dir=\"logs\")"
   ]
  },
  {
   "cell_type": "code",
   "execution_count": 7,
   "id": "14ecfd50",
   "metadata": {},
   "outputs": [
    {
     "name": "stdout",
     "output_type": "stream",
     "text": [
      "Epoch 1/20\n",
      "546/546 [==============================] - 97s 177ms/step - loss: 0.6335 - accuracy: 0.6358 - val_loss: 0.5989 - val_accuracy: 0.6724\n",
      "Epoch 2/20\n",
      "546/546 [==============================] - 86s 157ms/step - loss: 0.5344 - accuracy: 0.7342 - val_loss: 0.5094 - val_accuracy: 0.7627\n",
      "Epoch 3/20\n",
      "546/546 [==============================] - 98s 180ms/step - loss: 0.4670 - accuracy: 0.7780 - val_loss: 0.4887 - val_accuracy: 0.7711\n",
      "Epoch 4/20\n",
      "546/546 [==============================] - 84s 155ms/step - loss: 0.4241 - accuracy: 0.8060 - val_loss: 0.4522 - val_accuracy: 0.7912\n",
      "Epoch 5/20\n",
      "546/546 [==============================] - 86s 158ms/step - loss: 0.3877 - accuracy: 0.8236 - val_loss: 0.4474 - val_accuracy: 0.8046\n",
      "Epoch 6/20\n",
      "546/546 [==============================] - 84s 153ms/step - loss: 0.3482 - accuracy: 0.8444 - val_loss: 0.4568 - val_accuracy: 0.8009\n",
      "Epoch 7/20\n",
      "546/546 [==============================] - 160s 293ms/step - loss: 0.3172 - accuracy: 0.8607 - val_loss: 0.4541 - val_accuracy: 0.7974\n",
      "Epoch 8/20\n",
      "546/546 [==============================] - 130s 238ms/step - loss: 0.2927 - accuracy: 0.8719 - val_loss: 0.4767 - val_accuracy: 0.7992\n",
      "Epoch 9/20\n",
      "546/546 [==============================] - 130s 239ms/step - loss: 0.2605 - accuracy: 0.8889 - val_loss: 0.4865 - val_accuracy: 0.7942\n",
      "Epoch 10/20\n",
      "546/546 [==============================] - 128s 235ms/step - loss: 0.2348 - accuracy: 0.9003 - val_loss: 0.4948 - val_accuracy: 0.8021\n",
      "Epoch 11/20\n",
      "546/546 [==============================] - 130s 239ms/step - loss: 0.2100 - accuracy: 0.9136 - val_loss: 0.5645 - val_accuracy: 0.7948\n",
      "Epoch 12/20\n",
      "546/546 [==============================] - 101s 185ms/step - loss: 0.1905 - accuracy: 0.9201 - val_loss: 0.6791 - val_accuracy: 0.7765\n",
      "Epoch 13/20\n",
      "546/546 [==============================] - 86s 158ms/step - loss: 0.1679 - accuracy: 0.9315 - val_loss: 0.6649 - val_accuracy: 0.7930\n",
      "Epoch 14/20\n",
      "546/546 [==============================] - 85s 156ms/step - loss: 0.1482 - accuracy: 0.9374 - val_loss: 0.6605 - val_accuracy: 0.7938\n",
      "Epoch 15/20\n",
      "546/546 [==============================] - 83s 152ms/step - loss: 0.1258 - accuracy: 0.9502 - val_loss: 0.7581 - val_accuracy: 0.7950\n",
      "Epoch 16/20\n",
      "546/546 [==============================] - 116s 213ms/step - loss: 0.1196 - accuracy: 0.9518 - val_loss: 0.7086 - val_accuracy: 0.8009\n",
      "Epoch 17/20\n",
      "546/546 [==============================] - 216s 396ms/step - loss: 0.1099 - accuracy: 0.9556 - val_loss: 0.7668 - val_accuracy: 0.8032\n",
      "Epoch 18/20\n",
      "546/546 [==============================] - 217s 398ms/step - loss: 0.0928 - accuracy: 0.9622 - val_loss: 0.9162 - val_accuracy: 0.7822\n",
      "Epoch 19/20\n",
      "546/546 [==============================] - 202s 370ms/step - loss: 0.0817 - accuracy: 0.9696 - val_loss: 0.9444 - val_accuracy: 0.7970\n",
      "Epoch 20/20\n",
      "546/546 [==============================] - 205s 376ms/step - loss: 0.0783 - accuracy: 0.9685 - val_loss: 0.9388 - val_accuracy: 0.7962\n"
     ]
    },
    {
     "data": {
      "text/plain": [
       "<keras.callbacks.History at 0x227e94b7490>"
      ]
     },
     "execution_count": 7,
     "metadata": {},
     "output_type": "execute_result"
    }
   ],
   "source": [
    "model.fit(X,y,epochs=20,callbacks=[tensorboard],batch_size=32,validation_split=0.3)"
   ]
  },
  {
   "cell_type": "markdown",
   "id": "925a45ae",
   "metadata": {},
   "source": [
    "# Save Model (.h5 File)"
   ]
  },
  {
   "cell_type": "code",
   "execution_count": 10,
   "id": "d0cae80f",
   "metadata": {},
   "outputs": [],
   "source": [
    "model.save(\"64x3-CNN.h5\")"
   ]
  }
 ],
 "metadata": {
  "kernelspec": {
   "display_name": "Python 3 (ipykernel)",
   "language": "python",
   "name": "python3"
  },
  "language_info": {
   "codemirror_mode": {
    "name": "ipython",
    "version": 3
   },
   "file_extension": ".py",
   "mimetype": "text/x-python",
   "name": "python",
   "nbconvert_exporter": "python",
   "pygments_lexer": "ipython3",
   "version": "3.9.7"
  }
 },
 "nbformat": 4,
 "nbformat_minor": 5
}
