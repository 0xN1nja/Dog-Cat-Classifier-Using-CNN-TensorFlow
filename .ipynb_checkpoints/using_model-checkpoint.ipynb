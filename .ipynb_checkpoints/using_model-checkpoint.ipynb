{
 "cells": [
  {
   "cell_type": "code",
   "execution_count": 19,
   "id": "7e8038b9",
   "metadata": {},
   "outputs": [],
   "source": [
    "import tensorflow as tf\n",
    "import matplotlib.pyplot as plt\n",
    "import cv2\n",
    "import numpy as np"
   ]
  },
  {
   "cell_type": "code",
   "execution_count": 20,
   "id": "0a8c4e76",
   "metadata": {},
   "outputs": [],
   "source": [
    "labels=[\"Dog\",\"Cat\"]"
   ]
  },
  {
   "cell_type": "code",
   "execution_count": 21,
   "id": "9ac8db75",
   "metadata": {},
   "outputs": [],
   "source": [
    "def prepare(filepath):\n",
    "    img=cv2.imread(filepath,cv2.IMREAD_GRAYSCALE)\n",
    "    img=cv2.resize(img,(50,50))\n",
    "    return img.reshape(-1,50,50,1)"
   ]
  },
  {
   "cell_type": "markdown",
   "id": "206709fb",
   "metadata": {},
   "source": [
    "# Cat"
   ]
  },
  {
   "cell_type": "code",
   "execution_count": 22,
   "id": "2acd82a2",
   "metadata": {},
   "outputs": [],
   "source": [
    "model=tf.keras.models.load_model(\"64x3-CNN.h5\")"
   ]
  },
  {
   "cell_type": "code",
   "execution_count": 23,
   "id": "c6c0088a",
   "metadata": {},
   "outputs": [
    {
     "data": {
      "text/plain": [
       "'Cat'"
      ]
     },
     "execution_count": 23,
     "metadata": {},
     "output_type": "execute_result"
    }
   ],
   "source": [
    "path=r\"C:\\Users\\speed\\Downloads\\1800x1200_cat_relaxing_on_patio_other.jpg\"\n",
    "labels[int(model.predict([prepare(path)])[0])]"
   ]
  },
  {
   "cell_type": "markdown",
   "id": "6cd7ba16",
   "metadata": {},
   "source": [
    "# Dog"
   ]
  },
  {
   "cell_type": "code",
   "execution_count": 26,
   "id": "31a21a5b",
   "metadata": {},
   "outputs": [
    {
     "data": {
      "text/plain": [
       "'Dog'"
      ]
     },
     "execution_count": 26,
     "metadata": {},
     "output_type": "execute_result"
    }
   ],
   "source": [
    "path=r\"C:\\Users\\speed\\Downloads\\The_Science-Backed_Benefits_of_Being_a_Dog_Owner.jpg\"\n",
    "labels[int(model.predict([prepare(path)])[0])]"
   ]
  },
  {
   "cell_type": "code",
   "execution_count": 15,
   "id": "f6496b7c",
   "metadata": {},
   "outputs": [
    {
     "name": "stdout",
     "output_type": "stream",
     "text": [
      "Model: \"sequential_1\"\n",
      "_________________________________________________________________\n",
      " Layer (type)                Output Shape              Param #   \n",
      "=================================================================\n",
      " conv2d_2 (Conv2D)           (None, 48, 48, 64)        640       \n",
      "                                                                 \n",
      " activation_3 (Activation)   (None, 48, 48, 64)        0         \n",
      "                                                                 \n",
      " max_pooling2d_2 (MaxPooling  (None, 24, 24, 64)       0         \n",
      " 2D)                                                             \n",
      "                                                                 \n",
      " conv2d_3 (Conv2D)           (None, 22, 22, 64)        36928     \n",
      "                                                                 \n",
      " activation_4 (Activation)   (None, 22, 22, 64)        0         \n",
      "                                                                 \n",
      " max_pooling2d_3 (MaxPooling  (None, 11, 11, 64)       0         \n",
      " 2D)                                                             \n",
      "                                                                 \n",
      " flatten_1 (Flatten)         (None, 7744)              0         \n",
      "                                                                 \n",
      " dense_2 (Dense)             (None, 64)                495680    \n",
      "                                                                 \n",
      " dense_3 (Dense)             (None, 1)                 65        \n",
      "                                                                 \n",
      " activation_5 (Activation)   (None, 1)                 0         \n",
      "                                                                 \n",
      "=================================================================\n",
      "Total params: 533,313\n",
      "Trainable params: 533,313\n",
      "Non-trainable params: 0\n",
      "_________________________________________________________________\n"
     ]
    }
   ],
   "source": [
    "model.summary()"
   ]
  }
 ],
 "metadata": {
  "kernelspec": {
   "display_name": "Python 3 (ipykernel)",
   "language": "python",
   "name": "python3"
  },
  "language_info": {
   "codemirror_mode": {
    "name": "ipython",
    "version": 3
   },
   "file_extension": ".py",
   "mimetype": "text/x-python",
   "name": "python",
   "nbconvert_exporter": "python",
   "pygments_lexer": "ipython3",
   "version": "3.9.7"
  }
 },
 "nbformat": 4,
 "nbformat_minor": 5
}
