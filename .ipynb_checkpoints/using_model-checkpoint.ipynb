{
 "cells": [
  {
   "cell_type": "code",
   "execution_count": 1,
   "id": "7e8038b9",
   "metadata": {},
   "outputs": [],
   "source": [
    "import tensorflow as tf\n",
    "import matplotlib.pyplot as plt\n",
    "import cv2\n",
    "import numpy as np"
   ]
  },
  {
   "cell_type": "code",
   "execution_count": 2,
   "id": "0a8c4e76",
   "metadata": {},
   "outputs": [],
   "source": [
    "labels=[\"Dog\",\"Cat\"]"
   ]
  },
  {
   "cell_type": "code",
   "execution_count": 3,
   "id": "9ac8db75",
   "metadata": {},
   "outputs": [],
   "source": [
    "def prepare(filepath):\n",
    "    img=cv2.imread(filepath,cv2.IMREAD_GRAYSCALE)\n",
    "    img=cv2.resize(img,(50,50))\n",
    "    return img.reshape(-1,50,50,1)"
   ]
  },
  {
   "cell_type": "markdown",
   "id": "206709fb",
   "metadata": {},
   "source": [
    "# Cat"
   ]
  },
  {
   "cell_type": "code",
   "execution_count": 6,
   "id": "2acd82a2",
   "metadata": {},
   "outputs": [],
   "source": [
    "model=tf.keras.models.load_model(\"64x3-CNN.model\")"
   ]
  },
  {
   "cell_type": "code",
   "execution_count": 16,
   "id": "c6c0088a",
   "metadata": {},
   "outputs": [
    {
     "data": {
      "text/plain": [
       "'Cat'"
      ]
     },
     "execution_count": 16,
     "metadata": {},
     "output_type": "execute_result"
    }
   ],
   "source": [
    "path=r\"D:\\ISO's\\kagglecatsanddogs_3367a\\PetImages\\Cat\\11921.jpg\"\n",
    "labels[int(model.predict([prepare(path)])[0])]"
   ]
  },
  {
   "cell_type": "markdown",
   "id": "6cd7ba16",
   "metadata": {},
   "source": [
    "# Dog"
   ]
  },
  {
   "cell_type": "code",
   "execution_count": 17,
   "id": "31a21a5b",
   "metadata": {},
   "outputs": [
    {
     "data": {
      "text/plain": [
       "'Dog'"
      ]
     },
     "execution_count": 17,
     "metadata": {},
     "output_type": "execute_result"
    }
   ],
   "source": [
    "path=r\"C:\\Users\\speed\\Downloads\\The_Science-Backed_Benefits_of_Being_a_Dog_Owner.jpg\"\n",
    "labels[int(model.predict([prepare(path)])[0])]"
   ]
  }
 ],
 "metadata": {
  "kernelspec": {
   "display_name": "Python 3 (ipykernel)",
   "language": "python",
   "name": "python3"
  },
  "language_info": {
   "codemirror_mode": {
    "name": "ipython",
    "version": 3
   },
   "file_extension": ".py",
   "mimetype": "text/x-python",
   "name": "python",
   "nbconvert_exporter": "python",
   "pygments_lexer": "ipython3",
   "version": "3.9.7"
  }
 },
 "nbformat": 4,
 "nbformat_minor": 5
}
