{
 "cells": [
  {
   "cell_type": "code",
   "execution_count": 1,
   "id": "fa0bbd6e",
   "metadata": {},
   "outputs": [],
   "source": [
    "import tensorflow as tf\n",
    "from tensorflow.keras.models import Sequential\n",
    "from tensorflow.keras.layers import Dense,Flatten,Conv2D,MaxPooling2D,Dropout,Activation\n",
    "from tensorflow.keras.callbacks import TensorBoard\n",
    "import pickle\n",
    "import matplotlib.pyplot as plt\n",
    "import numpy as np"
   ]
  },
  {
   "cell_type": "code",
   "execution_count": 2,
   "id": "9e8df6b9",
   "metadata": {},
   "outputs": [],
   "source": [
    "x=pickle.load(open(r\"C:\\Users\\speed\\Tensorflow Tutorial\\x.pickle\",\"rb\"))\n",
    "y=pickle.load(open(r\"C:\\Users\\speed\\Tensorflow Tutorial\\y.pickle\",\"rb\"))\n",
    "y=np.array(y)"
   ]
  },
  {
   "cell_type": "code",
   "execution_count": 3,
   "id": "cef5f510",
   "metadata": {},
   "outputs": [],
   "source": [
    "X=x/255 # Normalize Data Before Passing It To Model (May Help In Gaining Accuracy ;-;)"
   ]
  },
  {
   "cell_type": "code",
   "execution_count": 19,
   "id": "3dd52556",
   "metadata": {
    "scrolled": false
   },
   "outputs": [],
   "source": [
    "model=Sequential([\n",
    "    Conv2D(16,(3,3),input_shape=(50,50,1)),\n",
    "    Activation(\"relu\"),\n",
    "    MaxPooling2D(),\n",
    "    Conv2D(32,(3,3)),\n",
    "    Activation(\"relu\"),\n",
    "    MaxPooling2D(),\n",
    "    Conv2D(64,(3,3)),\n",
    "    Activation(\"relu\"),\n",
    "    MaxPooling2D(),\n",
    "    Conv2D(128,(3,3)),\n",
    "    Activation(\"relu\"),\n",
    "    MaxPooling2D(),\n",
    "    Flatten(),\n",
    "    Dense(64),\n",
    "    Dense(1),\n",
    "    Activation(\"sigmoid\")\n",
    "])"
   ]
  },
  {
   "cell_type": "code",
   "execution_count": 20,
   "id": "e9a08487",
   "metadata": {},
   "outputs": [],
   "source": [
    "model.compile(optimizer=\"adam\",loss=\"binary_crossentropy\",metrics=[\"accuracy\"])"
   ]
  },
  {
   "cell_type": "code",
   "execution_count": 21,
   "id": "49319d06",
   "metadata": {},
   "outputs": [],
   "source": [
    "tensorboard=TensorBoard(log_dir=\"logs\")"
   ]
  },
  {
   "cell_type": "code",
   "execution_count": 22,
   "id": "14ecfd50",
   "metadata": {},
   "outputs": [
    {
     "name": "stdout",
     "output_type": "stream",
     "text": [
      "Epoch 1/5\n",
      "546/546 [==============================] - 58s 106ms/step - loss: 0.5696 - accuracy: 0.7179 - val_loss: 0.7181 - val_accuracy: 0.6129\n",
      "Epoch 2/5\n",
      "546/546 [==============================] - 86s 157ms/step - loss: 0.5070 - accuracy: 0.7531 - val_loss: 1.1368 - val_accuracy: 0.3049\n",
      "Epoch 3/5\n",
      "546/546 [==============================] - 87s 159ms/step - loss: 0.4377 - accuracy: 0.7985 - val_loss: 1.3092 - val_accuracy: 0.3572\n",
      "Epoch 4/5\n",
      "546/546 [==============================] - 98s 180ms/step - loss: 0.3913 - accuracy: 0.8253 - val_loss: 0.8754 - val_accuracy: 0.5500\n",
      "Epoch 5/5\n",
      "546/546 [==============================] - 102s 187ms/step - loss: 0.3527 - accuracy: 0.8429 - val_loss: 0.9994 - val_accuracy: 0.5383\n"
     ]
    },
    {
     "data": {
      "text/plain": [
       "<keras.callbacks.History at 0x19250bc70d0>"
      ]
     },
     "execution_count": 22,
     "metadata": {},
     "output_type": "execute_result"
    }
   ],
   "source": [
    "model.fit(X,y,epochs=5,callbacks=[tensorboard],batch_size=32,validation_split=0.3)"
   ]
  },
  {
   "cell_type": "markdown",
   "id": "925a45ae",
   "metadata": {},
   "source": [
    "# .h5 File"
   ]
  },
  {
   "cell_type": "code",
   "execution_count": 23,
   "id": "d0cae80f",
   "metadata": {},
   "outputs": [],
   "source": [
    "model.save(\"64x3-CNN.h5\")"
   ]
  }
 ],
 "metadata": {
  "kernelspec": {
   "display_name": "Python 3 (ipykernel)",
   "language": "python",
   "name": "python3"
  },
  "language_info": {
   "codemirror_mode": {
    "name": "ipython",
    "version": 3
   },
   "file_extension": ".py",
   "mimetype": "text/x-python",
   "name": "python",
   "nbconvert_exporter": "python",
   "pygments_lexer": "ipython3",
   "version": "3.9.7"
  }
 },
 "nbformat": 4,
 "nbformat_minor": 5
}
