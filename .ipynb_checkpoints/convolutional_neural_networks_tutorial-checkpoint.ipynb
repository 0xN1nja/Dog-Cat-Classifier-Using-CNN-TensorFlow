{
 "cells": [
  {
   "cell_type": "code",
   "execution_count": 2,
   "id": "fa0bbd6e",
   "metadata": {},
   "outputs": [],
   "source": [
    "import tensorflow as tf\n",
    "from tensorflow.keras.models import Sequential\n",
    "from tensorflow.keras.layers import Dense,Flatten,Conv2D,MaxPooling2D,Dropout,Activation\n",
    "from tensorflow.keras.callbacks import TensorBoard\n",
    "import pickle\n",
    "import matplotlib.pyplot as plt\n",
    "import numpy as np"
   ]
  },
  {
   "cell_type": "code",
   "execution_count": 3,
   "id": "9e8df6b9",
   "metadata": {},
   "outputs": [],
   "source": [
    "x=pickle.load(open(r\"x.pickle\",\"rb\"))\n",
    "y=pickle.load(open(r\"y.pickle\",\"rb\"))\n",
    "y=np.array(y)"
   ]
  },
  {
   "cell_type": "code",
   "execution_count": 4,
   "id": "cef5f510",
   "metadata": {},
   "outputs": [],
   "source": [
    "X=x/255 # Normalize Data Before Passing It To Model (May Help In Gaining Accuracy ;-;) (Also It Takes Less Time To Train)"
   ]
  },
  {
   "cell_type": "code",
   "execution_count": 5,
   "id": "3dd52556",
   "metadata": {
    "scrolled": false
   },
   "outputs": [],
   "source": [
    "model=Sequential([\n",
    "    Conv2D(63,(3,3),input_shape=(50,50,1)),\n",
    "    Activation(\"relu\"),\n",
    "    MaxPooling2D(),\n",
    "    Conv2D(63,(3,3)),\n",
    "    Activation(\"relu\"),\n",
    "    MaxPooling2D(),\n",
    "    Conv2D(63,(3,3)),\n",
    "    Activation(\"relu\"),\n",
    "    MaxPooling2D(),\n",
    "    Flatten(),\n",
    "    Dense(63),\n",
    "    Dense(1),\n",
    "    Activation(\"sigmoid\")\n",
    "])"
   ]
  },
  {
   "cell_type": "code",
   "execution_count": 6,
   "id": "e9a08487",
   "metadata": {},
   "outputs": [],
   "source": [
    "model.compile(optimizer=\"adam\",loss=\"binary_crossentropy\",metrics=[\"accuracy\"])"
   ]
  },
  {
   "cell_type": "code",
   "execution_count": 7,
   "id": "49319d06",
   "metadata": {},
   "outputs": [],
   "source": [
    "tensorboard=TensorBoard(log_dir=\"logs\")"
   ]
  },
  {
   "cell_type": "code",
   "execution_count": 8,
   "id": "14ecfd50",
   "metadata": {},
   "outputs": [
    {
     "name": "stdout",
     "output_type": "stream",
     "text": [
      "Epoch 1/20\n",
      "546/546 [==============================] - 137s 250ms/step - loss: 0.6645 - accuracy: 0.5899 - val_loss: 0.6020 - val_accuracy: 0.6737\n",
      "Epoch 2/20\n",
      "546/546 [==============================] - 144s 263ms/step - loss: 0.5666 - accuracy: 0.7070 - val_loss: 0.5335 - val_accuracy: 0.7372\n",
      "Epoch 3/20\n",
      "546/546 [==============================] - 126s 232ms/step - loss: 0.5049 - accuracy: 0.7541 - val_loss: 0.5432 - val_accuracy: 0.7249\n",
      "Epoch 4/20\n",
      "546/546 [==============================] - 125s 228ms/step - loss: 0.4577 - accuracy: 0.7824 - val_loss: 0.4693 - val_accuracy: 0.7773\n",
      "Epoch 5/20\n",
      "546/546 [==============================] - 150s 275ms/step - loss: 0.4215 - accuracy: 0.8074 - val_loss: 0.4856 - val_accuracy: 0.7635\n",
      "Epoch 6/20\n",
      "546/546 [==============================] - 148s 272ms/step - loss: 0.3876 - accuracy: 0.8244 - val_loss: 0.4425 - val_accuracy: 0.7986\n",
      "Epoch 7/20\n",
      "546/546 [==============================] - 150s 275ms/step - loss: 0.3620 - accuracy: 0.8367 - val_loss: 0.4588 - val_accuracy: 0.7857\n",
      "Epoch 8/20\n",
      "546/546 [==============================] - 147s 270ms/step - loss: 0.3384 - accuracy: 0.8493 - val_loss: 0.4892 - val_accuracy: 0.7878\n",
      "Epoch 9/20\n",
      "546/546 [==============================] - 150s 276ms/step - loss: 0.3120 - accuracy: 0.8631 - val_loss: 0.4526 - val_accuracy: 0.7997\n",
      "Epoch 10/20\n",
      "546/546 [==============================] - 152s 278ms/step - loss: 0.2932 - accuracy: 0.8715 - val_loss: 0.4692 - val_accuracy: 0.7953\n",
      "Epoch 11/20\n",
      "546/546 [==============================] - 144s 264ms/step - loss: 0.2669 - accuracy: 0.8856 - val_loss: 0.4765 - val_accuracy: 0.8004\n",
      "Epoch 12/20\n",
      "546/546 [==============================] - 148s 271ms/step - loss: 0.2472 - accuracy: 0.8930 - val_loss: 0.5109 - val_accuracy: 0.8037\n",
      "Epoch 13/20\n",
      "546/546 [==============================] - 150s 275ms/step - loss: 0.2183 - accuracy: 0.9072 - val_loss: 0.5575 - val_accuracy: 0.8061\n",
      "Epoch 14/20\n",
      "546/546 [==============================] - 88s 161ms/step - loss: 0.2011 - accuracy: 0.9150 - val_loss: 0.5591 - val_accuracy: 0.8111\n",
      "Epoch 15/20\n",
      "546/546 [==============================] - 83s 153ms/step - loss: 0.1840 - accuracy: 0.9252 - val_loss: 0.5812 - val_accuracy: 0.8072\n",
      "Epoch 16/20\n",
      "546/546 [==============================] - 78s 142ms/step - loss: 0.1650 - accuracy: 0.9331 - val_loss: 0.5958 - val_accuracy: 0.8026\n",
      "Epoch 17/20\n",
      "546/546 [==============================] - 79s 144ms/step - loss: 0.1515 - accuracy: 0.9375 - val_loss: 0.6507 - val_accuracy: 0.7953\n",
      "Epoch 18/20\n",
      "546/546 [==============================] - 100s 184ms/step - loss: 0.1345 - accuracy: 0.9453 - val_loss: 0.6788 - val_accuracy: 0.7942\n",
      "Epoch 19/20\n",
      "546/546 [==============================] - 100s 182ms/step - loss: 0.1243 - accuracy: 0.9518 - val_loss: 0.7551 - val_accuracy: 0.8017\n",
      "Epoch 20/20\n",
      "546/546 [==============================] - 115s 211ms/step - loss: 0.1088 - accuracy: 0.9562 - val_loss: 0.8404 - val_accuracy: 0.7973\n"
     ]
    },
    {
     "data": {
      "text/plain": [
       "<keras.callbacks.History at 0x1c4dcc3f940>"
      ]
     },
     "execution_count": 8,
     "metadata": {},
     "output_type": "execute_result"
    }
   ],
   "source": [
    "model.fit(X,y,epochs=20,callbacks=[tensorboard],batch_size=32,validation_split=0.3)"
   ]
  },
  {
   "cell_type": "markdown",
   "id": "925a45ae",
   "metadata": {},
   "source": [
    "# Save Model (.h5 File)"
   ]
  },
  {
   "cell_type": "code",
   "execution_count": 10,
   "id": "d0cae80f",
   "metadata": {},
   "outputs": [],
   "source": [
    "model.save(\"64x3-CNN.h5\")"
   ]
  }
 ],
 "metadata": {
  "kernelspec": {
   "display_name": "Python 3 (ipykernel)",
   "language": "python",
   "name": "python3"
  },
  "language_info": {
   "codemirror_mode": {
    "name": "ipython",
    "version": 3
   },
   "file_extension": ".py",
   "mimetype": "text/x-python",
   "name": "python",
   "nbconvert_exporter": "python",
   "pygments_lexer": "ipython3",
   "version": "3.9.7"
  }
 },
 "nbformat": 4,
 "nbformat_minor": 5
}
