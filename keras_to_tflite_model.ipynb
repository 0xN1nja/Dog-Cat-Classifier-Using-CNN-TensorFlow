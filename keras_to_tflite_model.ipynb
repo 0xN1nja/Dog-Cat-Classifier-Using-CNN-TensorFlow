{
 "cells": [
  {
   "cell_type": "code",
   "execution_count": 1,
   "id": "6819838b",
   "metadata": {},
   "outputs": [],
   "source": [
    "import tensorflow as tf"
   ]
  },
  {
   "cell_type": "code",
   "execution_count": 2,
   "id": "ea51b05f",
   "metadata": {},
   "outputs": [],
   "source": [
    "model=tf.keras.models.load_model(\"64x3-CNN.h5\")"
   ]
  },
  {
   "cell_type": "code",
   "execution_count": 3,
   "id": "b625b095",
   "metadata": {},
   "outputs": [],
   "source": [
    "lite_converter=tf.lite.TFLiteConverter.from_keras_model(model)"
   ]
  },
  {
   "cell_type": "code",
   "execution_count": 4,
   "id": "4e69d1b5",
   "metadata": {},
   "outputs": [
    {
     "name": "stdout",
     "output_type": "stream",
     "text": [
      "INFO:tensorflow:Assets written to: C:\\Users\\speed\\AppData\\Local\\Temp\\tmp_py6gf34\\assets\n"
     ]
    },
    {
     "name": "stderr",
     "output_type": "stream",
     "text": [
      "WARNING:absl:Buffer deduplication procedure will be skipped when flatbuffer library is not properly loaded\n"
     ]
    }
   ],
   "source": [
    "converted_tflite=lite_converter.convert()"
   ]
  },
  {
   "cell_type": "code",
   "execution_count": 5,
   "id": "b92d5a8f",
   "metadata": {},
   "outputs": [],
   "source": [
    "with open(\"64x3-CNN.tflite\",\"wb\")as f:\n",
    "    f.write(converted_tflite)"
   ]
  }
 ],
 "metadata": {
  "kernelspec": {
   "display_name": "Python 3 (ipykernel)",
   "language": "python",
   "name": "python3"
  },
  "language_info": {
   "codemirror_mode": {
    "name": "ipython",
    "version": 3
   },
   "file_extension": ".py",
   "mimetype": "text/x-python",
   "name": "python",
   "nbconvert_exporter": "python",
   "pygments_lexer": "ipython3",
   "version": "3.9.7"
  }
 },
 "nbformat": 4,
 "nbformat_minor": 5
}
