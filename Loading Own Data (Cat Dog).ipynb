{
 "cells": [
  {
   "cell_type": "code",
   "execution_count": 1,
   "id": "8da9656f",
   "metadata": {},
   "outputs": [],
   "source": [
    "import tensorflow as tf\n",
    "import numpy as np\n",
    "import matplotlib.pyplot as plt\n",
    "import pickle\n",
    "import os\n",
    "import shutil\n",
    "import cv2\n",
    "import random"
   ]
  },
  {
   "cell_type": "code",
   "execution_count": 2,
   "id": "ecca47a1",
   "metadata": {},
   "outputs": [],
   "source": [
    "DATADIR=r\"D:\\ISO's\\kagglecatsanddogs_3367a\\PetImages\"\n",
    "CATEGORIES=[\"Dog\",\"Cat\"]"
   ]
  },
  {
   "cell_type": "code",
   "execution_count": 7,
   "id": "605a8427",
   "metadata": {},
   "outputs": [],
   "source": [
    "training_data=[]\n",
    "for i in CATEGORIES:\n",
    "    path=os.path.join(DATADIR,i)\n",
    "    class_num=CATEGORIES.index(i)\n",
    "    for i in os.listdir(path):\n",
    "        try:\n",
    "            img_arr=cv2.imread(os.path.join(path,i),cv2.IMREAD_GRAYSCALE)\n",
    "            new_arr=cv2.resize(img_arr,(50,50))\n",
    "            training_data.append([new_arr,class_num])\n",
    "        except:pass"
   ]
  },
  {
   "cell_type": "code",
   "execution_count": 8,
   "id": "be1944f1",
   "metadata": {},
   "outputs": [
    {
     "data": {
      "text/plain": [
       "24946"
      ]
     },
     "execution_count": 8,
     "metadata": {},
     "output_type": "execute_result"
    }
   ],
   "source": [
    "len(training_data)"
   ]
  },
  {
   "cell_type": "code",
   "execution_count": 9,
   "id": "d182e8f3",
   "metadata": {},
   "outputs": [],
   "source": [
    "x=[]\n",
    "y=[]"
   ]
  },
  {
   "cell_type": "code",
   "execution_count": 10,
   "id": "2b8d2b3e",
   "metadata": {},
   "outputs": [],
   "source": [
    "for f,l in training_data:\n",
    "    x.append(f)\n",
    "    y.append(l)"
   ]
  },
  {
   "cell_type": "code",
   "execution_count": 12,
   "id": "4fd5ba7b",
   "metadata": {},
   "outputs": [],
   "source": [
    "x=np.array(x).reshape(-1,50,50,1)"
   ]
  },
  {
   "cell_type": "code",
   "execution_count": 13,
   "id": "aaf4302a",
   "metadata": {},
   "outputs": [],
   "source": [
    "with open(\"x.pickle\",\"wb\")as f:\n",
    "    pickle.dump(x,f)\n",
    "with open(\"y.pickle\",\"wb\")as f:\n",
    "    pickle.dump(y,f)"
   ]
  },
  {
   "cell_type": "code",
   "execution_count": 14,
   "id": "64ce1782",
   "metadata": {},
   "outputs": [
    {
     "data": {
      "text/plain": [
       "(24946, 50, 50, 1)"
      ]
     },
     "execution_count": 14,
     "metadata": {},
     "output_type": "execute_result"
    }
   ],
   "source": [
    "x.shape"
   ]
  }
 ],
 "metadata": {
  "kernelspec": {
   "display_name": "Python 3 (ipykernel)",
   "language": "python",
   "name": "python3"
  },
  "language_info": {
   "codemirror_mode": {
    "name": "ipython",
    "version": 3
   },
   "file_extension": ".py",
   "mimetype": "text/x-python",
   "name": "python",
   "nbconvert_exporter": "python",
   "pygments_lexer": "ipython3",
   "version": "3.9.7"
  }
 },
 "nbformat": 4,
 "nbformat_minor": 5
}
