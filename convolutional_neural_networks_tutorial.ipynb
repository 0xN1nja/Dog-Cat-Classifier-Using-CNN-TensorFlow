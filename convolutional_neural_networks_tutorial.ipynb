{
 "cells": [
  {
   "cell_type": "code",
   "execution_count": 7,
   "id": "fa0bbd6e",
   "metadata": {},
   "outputs": [],
   "source": [
    "import tensorflow as tf\n",
    "from tensorflow.keras.models import Sequential\n",
    "from tensorflow.keras.layers import Dense,Flatten,Conv2D,MaxPooling2D,Dropout,Activation\n",
    "from tensorflow.keras.callbacks import TensorBoard\n",
    "import pickle\n",
    "import matplotlib.pyplot as plt\n",
    "import numpy as np"
   ]
  },
  {
   "cell_type": "code",
   "execution_count": 8,
   "id": "9e8df6b9",
   "metadata": {},
   "outputs": [],
   "source": [
    "x=pickle.load(open(\"x.pickle\",\"rb\"))\n",
    "y=pickle.load(open(\"y.pickle\",\"rb\"))\n",
    "y=np.array(y)"
   ]
  },
  {
   "cell_type": "code",
   "execution_count": 9,
   "id": "cef5f510",
   "metadata": {},
   "outputs": [],
   "source": [
    "X=x/255 # Normalize Data Before Passing It To Model (It Helps In Gaining Accuracy)"
   ]
  },
  {
   "cell_type": "code",
   "execution_count": 10,
   "id": "3dd52556",
   "metadata": {
    "scrolled": false
   },
   "outputs": [],
   "source": [
    "model=Sequential([\n",
    "    Conv2D(64,(3,3),input_shape=(50,50,1)),\n",
    "    Activation(\"relu\"),\n",
    "    MaxPooling2D(pool_size=(2,2)),\n",
    "    Conv2D(64,(3,3)),\n",
    "    Activation(\"relu\"),\n",
    "    MaxPooling2D(pool_size=(2,2)),\n",
    "    Flatten(),\n",
    "    Dense(64),\n",
    "    Dense(1),\n",
    "    Activation(\"sigmoid\")\n",
    "])"
   ]
  },
  {
   "cell_type": "code",
   "execution_count": 11,
   "id": "e9a08487",
   "metadata": {},
   "outputs": [],
   "source": [
    "model.compile(optimizer=\"adam\",loss=\"binary_crossentropy\",metrics=[\"accuracy\"])"
   ]
  },
  {
   "cell_type": "code",
   "execution_count": 12,
   "id": "49319d06",
   "metadata": {},
   "outputs": [],
   "source": [
    "tensorboard=TensorBoard(log_dir=\"logs\")"
   ]
  },
  {
   "cell_type": "code",
   "execution_count": 13,
   "id": "14ecfd50",
   "metadata": {},
   "outputs": [
    {
     "name": "stdout",
     "output_type": "stream",
     "text": [
      "Epoch 1/5\n",
      "546/546 [==============================] - 209s 379ms/step - loss: 0.5396 - accuracy: 0.7390 - val_loss: 1.0109 - val_accuracy: 0.3377\n",
      "Epoch 2/5\n",
      "546/546 [==============================] - 218s 399ms/step - loss: 0.4548 - accuracy: 0.7904 - val_loss: 0.7937 - val_accuracy: 0.5389\n",
      "Epoch 3/5\n",
      "546/546 [==============================] - 188s 344ms/step - loss: 0.4252 - accuracy: 0.8070 - val_loss: 0.8513 - val_accuracy: 0.5393\n",
      "Epoch 4/5\n",
      "546/546 [==============================] - 184s 338ms/step - loss: 0.3902 - accuracy: 0.8278 - val_loss: 1.5218 - val_accuracy: 0.3280\n",
      "Epoch 5/5\n",
      "546/546 [==============================] - 182s 334ms/step - loss: 0.3609 - accuracy: 0.8400 - val_loss: 1.0353 - val_accuracy: 0.4651\n"
     ]
    },
    {
     "data": {
      "text/plain": [
       "<keras.callbacks.History at 0x2b1a2e352b0>"
      ]
     },
     "execution_count": 13,
     "metadata": {},
     "output_type": "execute_result"
    }
   ],
   "source": [
    "model.fit(X,y,epochs=5,callbacks=[tensorboard],batch_size=32,validation_split=0.3)"
   ]
  },
  {
   "cell_type": "code",
   "execution_count": 14,
   "id": "d0cae80f",
   "metadata": {},
   "outputs": [
    {
     "name": "stdout",
     "output_type": "stream",
     "text": [
      "INFO:tensorflow:Assets written to: 64x3-CNN.model\\assets\n"
     ]
    }
   ],
   "source": [
    "model.save(\"64x3-CNN.model\")"
   ]
  }
 ],
 "metadata": {
  "kernelspec": {
   "display_name": "Python 3 (ipykernel)",
   "language": "python",
   "name": "python3"
  },
  "language_info": {
   "codemirror_mode": {
    "name": "ipython",
    "version": 3
   },
   "file_extension": ".py",
   "mimetype": "text/x-python",
   "name": "python",
   "nbconvert_exporter": "python",
   "pygments_lexer": "ipython3",
   "version": "3.9.7"
  }
 },
 "nbformat": 4,
 "nbformat_minor": 5
}
