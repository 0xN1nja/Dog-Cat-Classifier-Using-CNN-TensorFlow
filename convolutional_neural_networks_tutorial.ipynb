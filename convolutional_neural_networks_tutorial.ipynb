{
 "cells": [
  {
   "cell_type": "code",
   "execution_count": 7,
   "id": "fa0bbd6e",
   "metadata": {},
   "outputs": [],
   "source": [
    "import tensorflow as tf\n",
    "from tensorflow.keras.models import Sequential\n",
    "from tensorflow.keras.layers import Dense,Flatten,Conv2D,MaxPooling2D,Dropout,Activation\n",
    "from tensorflow.keras.callbacks import TensorBoard\n",
    "import pickle\n",
    "import matplotlib.pyplot as plt\n",
    "import numpy as np"
   ]
  },
  {
   "cell_type": "code",
   "execution_count": 8,
   "id": "9e8df6b9",
   "metadata": {},
   "outputs": [],
   "source": [
    "x=pickle.load(open(r\"C:\\Users\\speed\\Tensorflow Tutorial\\x.pickle\",\"rb\"))\n",
    "y=pickle.load(open(r\"C:\\Users\\speed\\Tensorflow Tutorial\\y.pickle\",\"rb\"))\n",
    "y=np.array(y)"
   ]
  },
  {
   "cell_type": "code",
   "execution_count": 9,
   "id": "cef5f510",
   "metadata": {},
   "outputs": [],
   "source": [
    "X=x/255 # Normalize Data Before Passing It To Model (May Help In Gaining Accuracy ;-;)"
   ]
  },
  {
   "cell_type": "code",
   "execution_count": 14,
   "id": "3dd52556",
   "metadata": {
    "scrolled": false
   },
   "outputs": [],
   "source": [
    "model=Sequential([\n",
    "    Conv2D(256,(3,3),input_shape=(50,50,1),activation=\"relu\"),\n",
    "    MaxPooling2D(),\n",
    "    Conv2D(256,(3,3),activation=\"relu\"),\n",
    "    MaxPooling2D(),\n",
    "    Flatten(),\n",
    "    Dense(64),\n",
    "    Dense(1,activation=\"sigmoid\"),\n",
    "])"
   ]
  },
  {
   "cell_type": "code",
   "execution_count": 15,
   "id": "e9a08487",
   "metadata": {},
   "outputs": [],
   "source": [
    "model.compile(optimizer=\"adam\",loss=\"binary_crossentropy\",metrics=[\"accuracy\"])"
   ]
  },
  {
   "cell_type": "code",
   "execution_count": 16,
   "id": "49319d06",
   "metadata": {},
   "outputs": [],
   "source": [
    "tensorboard=TensorBoard(log_dir=\"logs\")"
   ]
  },
  {
   "cell_type": "code",
   "execution_count": 17,
   "id": "14ecfd50",
   "metadata": {},
   "outputs": [
    {
     "name": "stdout",
     "output_type": "stream",
     "text": [
      "Epoch 1/5\n",
      "546/546 [==============================] - 511s 936ms/step - loss: 0.5584 - accuracy: 0.7282 - val_loss: 0.9889 - val_accuracy: 0.2548\n",
      "Epoch 2/5\n",
      "546/546 [==============================] - 535s 980ms/step - loss: 0.4905 - accuracy: 0.7667 - val_loss: 0.8520 - val_accuracy: 0.4677\n",
      "Epoch 3/5\n",
      "546/546 [==============================] - 469s 860ms/step - loss: 0.4527 - accuracy: 0.7891 - val_loss: 0.8548 - val_accuracy: 0.5111\n",
      "Epoch 4/5\n",
      "546/546 [==============================] - 465s 851ms/step - loss: 0.4222 - accuracy: 0.8087 - val_loss: 1.1371 - val_accuracy: 0.4085\n",
      "Epoch 5/5\n",
      "546/546 [==============================] - 523s 958ms/step - loss: 0.4070 - accuracy: 0.8186 - val_loss: 0.7938 - val_accuracy: 0.5832\n"
     ]
    },
    {
     "data": {
      "text/plain": [
       "<keras.callbacks.History at 0x2489c099eb0>"
      ]
     },
     "execution_count": 17,
     "metadata": {},
     "output_type": "execute_result"
    }
   ],
   "source": [
    "model.fit(X,y,epochs=5,callbacks=[tensorboard],batch_size=32,validation_split=0.3)"
   ]
  },
  {
   "cell_type": "markdown",
   "id": "925a45ae",
   "metadata": {},
   "source": [
    "# .h5 File"
   ]
  },
  {
   "cell_type": "code",
   "execution_count": 18,
   "id": "d0cae80f",
   "metadata": {},
   "outputs": [],
   "source": [
    "model.save(\"64x3-CNN.h5\")"
   ]
  },
  {
   "cell_type": "markdown",
   "id": "a475c552",
   "metadata": {},
   "source": [
    "# .model File"
   ]
  },
  {
   "cell_type": "code",
   "execution_count": 19,
   "id": "31c0a9fa",
   "metadata": {},
   "outputs": [
    {
     "name": "stdout",
     "output_type": "stream",
     "text": [
      "INFO:tensorflow:Assets written to: 64x3-CNN.model\\assets\n"
     ]
    }
   ],
   "source": [
    "model.save(\"64x3-CNN.model\")"
   ]
  }
 ],
 "metadata": {
  "kernelspec": {
   "display_name": "Python 3 (ipykernel)",
   "language": "python",
   "name": "python3"
  },
  "language_info": {
   "codemirror_mode": {
    "name": "ipython",
    "version": 3
   },
   "file_extension": ".py",
   "mimetype": "text/x-python",
   "name": "python",
   "nbconvert_exporter": "python",
   "pygments_lexer": "ipython3",
   "version": "3.9.7"
  }
 },
 "nbformat": 4,
 "nbformat_minor": 5
}
