{
 "cells": [
  {
   "cell_type": "code",
   "execution_count": 9,
   "id": "fa0bbd6e",
   "metadata": {},
   "outputs": [],
   "source": [
    "import tensorflow as tf\n",
    "from tensorflow.keras.models import Sequential\n",
    "from tensorflow.keras.layers import Dense,Flatten,Conv2D,MaxPooling2D,Dropout,Activation\n",
    "from tensorflow.keras.callbacks import TensorBoard\n",
    "import pickle\n",
    "import matplotlib.pyplot as plt\n",
    "import numpy as np"
   ]
  },
  {
   "cell_type": "code",
   "execution_count": 10,
   "id": "9e8df6b9",
   "metadata": {},
   "outputs": [],
   "source": [
    "x=pickle.load(open(r\"C:\\Users\\speed\\Tensorflow Tutorial\\x.pickle\",\"rb\"))\n",
    "y=pickle.load(open(r\"C:\\Users\\speed\\Tensorflow Tutorial\\y.pickle\",\"rb\"))\n",
    "y=np.array(y)"
   ]
  },
  {
   "cell_type": "code",
   "execution_count": 11,
   "id": "cef5f510",
   "metadata": {},
   "outputs": [],
   "source": [
    "X=x/255 # Normalize Data Before Passing It To Model (May Help In Gaining Accuracy ;-;)"
   ]
  },
  {
   "cell_type": "code",
   "execution_count": 12,
   "id": "3dd52556",
   "metadata": {
    "scrolled": false
   },
   "outputs": [],
   "source": [
    "model=Sequential([\n",
    "    Conv2D(64,(3,3),input_shape=(50,50,1)),\n",
    "    Activation(\"relu\"),\n",
    "    MaxPooling2D(pool_size=(2,2)),\n",
    "    Conv2D(64,(3,3)),\n",
    "    Activation(\"relu\"),\n",
    "    MaxPooling2D(pool_size=(2,2)),\n",
    "    Flatten(),\n",
    "    Dense(64),\n",
    "    Dense(1),\n",
    "    Activation(\"sigmoid\")\n",
    "])"
   ]
  },
  {
   "cell_type": "code",
   "execution_count": 13,
   "id": "e9a08487",
   "metadata": {},
   "outputs": [],
   "source": [
    "model.compile(optimizer=\"adam\",loss=\"binary_crossentropy\",metrics=[\"accuracy\"])"
   ]
  },
  {
   "cell_type": "code",
   "execution_count": 14,
   "id": "49319d06",
   "metadata": {},
   "outputs": [],
   "source": [
    "tensorboard=TensorBoard(log_dir=\"logs\")"
   ]
  },
  {
   "cell_type": "code",
   "execution_count": 15,
   "id": "14ecfd50",
   "metadata": {},
   "outputs": [
    {
     "name": "stdout",
     "output_type": "stream",
     "text": [
      "Epoch 1/5\n",
      "546/546 [==============================] - 96s 173ms/step - loss: 0.5572 - accuracy: 0.7296 - val_loss: 1.4039 - val_accuracy: 0.1040\n",
      "Epoch 2/5\n",
      "546/546 [==============================] - 81s 149ms/step - loss: 0.4801 - accuracy: 0.7716 - val_loss: 1.1523 - val_accuracy: 0.3227\n",
      "Epoch 3/5\n",
      "546/546 [==============================] - 87s 159ms/step - loss: 0.4393 - accuracy: 0.7995 - val_loss: 0.9487 - val_accuracy: 0.4675\n",
      "Epoch 4/5\n",
      "546/546 [==============================] - 102s 187ms/step - loss: 0.4094 - accuracy: 0.8165 - val_loss: 1.0863 - val_accuracy: 0.4055\n",
      "Epoch 5/5\n",
      "546/546 [==============================] - 81s 148ms/step - loss: 0.3828 - accuracy: 0.8312 - val_loss: 0.6836 - val_accuracy: 0.6558\n"
     ]
    },
    {
     "data": {
      "text/plain": [
       "<keras.callbacks.History at 0x1d000076040>"
      ]
     },
     "execution_count": 15,
     "metadata": {},
     "output_type": "execute_result"
    }
   ],
   "source": [
    "model.fit(X,y,epochs=5,callbacks=[tensorboard],batch_size=32,validation_split=0.3)"
   ]
  },
  {
   "cell_type": "code",
   "execution_count": 16,
   "id": "d0cae80f",
   "metadata": {},
   "outputs": [],
   "source": [
    "model.save(\"64x3-CNN.h5\")"
   ]
  }
 ],
 "metadata": {
  "kernelspec": {
   "display_name": "Python 3 (ipykernel)",
   "language": "python",
   "name": "python3"
  },
  "language_info": {
   "codemirror_mode": {
    "name": "ipython",
    "version": 3
   },
   "file_extension": ".py",
   "mimetype": "text/x-python",
   "name": "python",
   "nbconvert_exporter": "python",
   "pygments_lexer": "ipython3",
   "version": "3.9.7"
  }
 },
 "nbformat": 4,
 "nbformat_minor": 5
}
